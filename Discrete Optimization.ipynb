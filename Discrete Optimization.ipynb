{
 "cells": [
  {
   "cell_type": "code",
   "execution_count": null,
   "metadata": {
    "collapsed": true
   },
   "outputs": [],
   "source": [
    "%matplotlib inline\n",
    "\n",
    "import pandas as pd\n",
    "import numpy as np\n",
    "from scipy.stats import rv_continuous, norm, truncnorm, arcsine, chi2, gamma, triang, entropy\n",
    "import matplotlib.pyplot as plt\n",
    "from itertools import combinations_with_replacement\n",
    "from time import time"
   ]
  },
  {
   "cell_type": "code",
   "execution_count": null,
   "metadata": {
    "collapsed": true
   },
   "outputs": [],
   "source": [
    "gift_types = ['horse', 'ball', 'bike', 'train', 'coal', 'book', 'doll', 'blocks', 'gloves']\n",
    "gift_numbers = [1000, 1100, 500, 1000, 166, 1200, 1000, 1000, 200]\n",
    "gift_ids = [[item +'_'+str(i) for i in range(gift_numbers[index])] for index, item in enumerate(gift_types)]\n",
    "df = pd.read_csv('best_combinations.csv')"
   ]
  },
  {
   "cell_type": "code",
   "execution_count": null,
   "metadata": {
    "collapsed": false
   },
   "outputs": [],
   "source": [
    "def unshared_copy(inList):\n",
    "    if isinstance(inList, list):\n",
    "        return list( map(unshared_copy, inList) )\n",
    "    return inList\n",
    "\n",
    "def max_number_of_packages(recipe, numbers):\n",
    "    max_packs = np.inf\n",
    "    for rn,gn in zip(recipe, numbers):\n",
    "        if rn == 0:\n",
    "            pass\n",
    "        elif gn/rn < max_packs:\n",
    "            max_packs = gn/rn    \n",
    "    return int(max_packs)\n",
    "\n",
    "def pack_recipe_to_str(package_recipe, gift_types, ids):\n",
    "    out = ''\n",
    "    for pack_n, gt, gift_id_list in zip(package_recipe, gift_types, ids):\n",
    "        for i in range(int(pack_n)):\n",
    "            out += gift_id_list.pop() + ' '\n",
    "    return out[:-1]\n",
    "\n",
    "\n",
    "def greedy_gnome(dataframe, gift_types, gift_numbers, gift_ids):\n",
    "    internal_ids = unshared_copy(gift_ids)\n",
    "    internal_numbers = unshared_copy(gift_numbers)\n",
    "    packages = []\n",
    "    scores = []\n",
    "    package_counter = max_packages = 1000\n",
    "    df = dataframe.sort_values('score', ascending = False)\n",
    "    score = 0\n",
    "    for row in df.iterrows():\n",
    "        package_recipe = row[1][gift_types]\n",
    "        m = min(max_number_of_packages(package_recipe, internal_numbers), package_counter)\n",
    "        internal_numbers -= package_recipe*m\n",
    "        package_counter -= m\n",
    "        for i in range(m):\n",
    "            packages += [pack_recipe_to_str(package_recipe, gift_types, internal_ids)]\n",
    "        scores += [row[1]['score']] * m\n",
    "        if package_counter <= 0:\n",
    "            break\n",
    "    return [scores, packages, internal_numbers]\n",
    "\n",
    "def pack_recipe_to_str_random(package_recipe, gift_types, ids):\n",
    "    out = ''\n",
    "    for pack_n, gift_id_list in zip(package_recipe, ids):\n",
    "        for i in range(int(pack_n)):\n",
    "            random_index = np.random.randint(len(gift_id_list))\n",
    "            out += gift_id_list[random_index] + ' '\n",
    "            del gift_id_list[random_index]\n",
    "    return out[:-1]\n",
    "\n",
    "\n",
    "def greedy_gnome_random(dataframe, gift_types, gift_numbers, gift_ids):\n",
    "    internal_ids = unshared_copy(gift_ids)\n",
    "    internal_numbers = unshared_copy(gift_numbers)\n",
    "    packages = []\n",
    "    scores = []\n",
    "    package_counter = max_packages = 1000\n",
    "    df = dataframe.sort_values('score', ascending = False)\n",
    "    score = 0\n",
    "    for row in df.iterrows():\n",
    "        package_recipe = row[1][gift_types]\n",
    "        m = min(max_number_of_packages(package_recipe, internal_numbers), package_counter)\n",
    "        internal_numbers -= package_recipe*m\n",
    "        package_counter -= m\n",
    "        for i in range(m):\n",
    "            packages += [pack_recipe_to_str_random(package_recipe, gift_types, internal_ids)]\n",
    "        scores += [row[1]['score']] * m\n",
    "        if package_counter <= 0:\n",
    "            break\n",
    "    return [scores, packages, internal_numbers]\n",
    "\n",
    "def fast_greedy_gnome(dataframe, gift_types, gift_numbers, N_packs=1000):\n",
    "    j = 0\n",
    "    cart_recipe = [None] * N_packs\n",
    "    package_counter = 0\n",
    "    items_left = gift_numbers[:]\n",
    "    scores = []\n",
    "    for i in dataframe.itertuples():\n",
    "        index = i[0]\n",
    "        recipe = i[1:10]\n",
    "        score = i[10]\n",
    "        n_items = i[11]\n",
    "        max_packs = max_number_of_packages(recipe, items_left)\n",
    "        number_of_packages = min(max_packs, max(0,N_packs-package_counter))\n",
    "        if number_of_packages == 0:\n",
    "            continue\n",
    "        #print('max_packs = %d, number_of_packages = %d, package_counter = %d' \n",
    "        #      % (max_packs, number_of_packages, package_counter))\n",
    "        for index, [r, il] in enumerate(zip(recipe, items_left)):\n",
    "            items_left[index] = il - r * number_of_packages\n",
    "        scores += [score] * number_of_packages\n",
    "        cart_recipe[package_counter:package_counter+number_of_packages] = [recipe] * number_of_packages\n",
    "        package_counter += number_of_packages\n",
    "        #print(recipe)\n",
    "        #print(items_left)\n",
    "        #print('----------')\n",
    "        if package_counter == 1000:\n",
    "            break\n",
    "    return [scores, cart_recipe, items_left]"
   ]
  },
  {
   "cell_type": "code",
   "execution_count": null,
   "metadata": {
    "collapsed": false
   },
   "outputs": [],
   "source": [
    "max_i = 7\n",
    "gg1 = greedy_gnome(df[(df.n_items <= max_i) & (df.n_items >= 3)], gift_types, gift_numbers, gift_ids)"
   ]
  },
  {
   "cell_type": "code",
   "execution_count": null,
   "metadata": {
    "collapsed": false
   },
   "outputs": [],
   "source": [
    "sum(gg1[0])"
   ]
  },
  {
   "cell_type": "code",
   "execution_count": null,
   "metadata": {
    "collapsed": false
   },
   "outputs": [],
   "source": [
    "def gift_list_csv(name, pack_lists):\n",
    "    pd.DataFrame(pack_lists, columns = ['Gifts']).to_csv(name, index=False)"
   ]
  },
  {
   "cell_type": "code",
   "execution_count": null,
   "metadata": {
    "collapsed": false
   },
   "outputs": [],
   "source": [
    "gift_list_csv('first_normal.csv', gg1[1])"
   ]
  },
  {
   "cell_type": "code",
   "execution_count": null,
   "metadata": {
    "collapsed": false
   },
   "outputs": [],
   "source": [
    "first_normal_score = 35158.63183"
   ]
  },
  {
   "cell_type": "code",
   "execution_count": null,
   "metadata": {
    "collapsed": true
   },
   "outputs": [],
   "source": [
    "max_i = 7\n",
    "random_gg_1 = greedy_gnome_random(df[(df.n_items <= max_i) & (df.n_items >= 3)], gift_types, gift_numbers, gift_ids)"
   ]
  },
  {
   "cell_type": "code",
   "execution_count": null,
   "metadata": {
    "collapsed": true
   },
   "outputs": [],
   "source": [
    "#gift_list_csv('first_ggr.csv', random_gg_1[1])\n",
    "#gift_list_csv('second_ggr.csv', random_gg_2[1])"
   ]
  },
  {
   "cell_type": "code",
   "execution_count": null,
   "metadata": {
    "collapsed": true
   },
   "outputs": [],
   "source": [
    "first_ggr_score = 35142.35864\n",
    "second_ggr_score = 35077.81176"
   ]
  },
  {
   "cell_type": "code",
   "execution_count": null,
   "metadata": {
    "collapsed": false
   },
   "outputs": [],
   "source": [
    "max_sum = 0\n",
    "max_ij = -1\n",
    "for i in [10*t for t in range(100)]:\n",
    "    print('========\\ni = %d' % i)\n",
    "    for j in [10*t for t in range(i,100)]:\n",
    "        gg = fast_greedy_gnome(df[(df.max_packs >= 60) & (df.n_items >= 3) & (df.ball>=i) & (df.ball<=j)& (df.gloves>=i) & (df.gloves<=j)], gift_types, gift_numbers)\n",
    "        sum_i = sum(gg[0])\n",
    "        #print('i = %d' % i)\n",
    "        #print('Expected score = %.2f\\nMax score = %.2f\\n----------' % (sum_i, max_sum))\n",
    "        if sum_i > max_sum:\n",
    "            max_sum = sum_i\n",
    "            max_ij = [i, j]\n",
    "            \n",
    "print(max_ij)\n",
    "print(max_sum)"
   ]
  },
  {
   "cell_type": "code",
   "execution_count": null,
   "metadata": {
    "collapsed": false
   },
   "outputs": [],
   "source": [
    "max_i = -1\n",
    "max_sum = 0\n",
    "for i in range(3,28):\n",
    "    gg = fast_greedy_gnome(df[(df.max_packs >= 60) & (df.n_items >= 3) & (df.n_items<=7) & (df.score>i)], gift_types, gift_numbers)\n",
    "    sum_i = sum(gg[0])\n",
    "    #print('i = %d' % i)\n",
    "    #print('Expected score = %.2f\\nMax score = %.2f\\n----------' % (sum_i, max_sum))\n",
    "    if sum_i > max_sum:\n",
    "        max_sum = sum_i\n",
    "        max_i = i\n",
    "        \n",
    "print(max_i)\n",
    "print(max_sum)"
   ]
  },
  {
   "cell_type": "code",
   "execution_count": null,
   "metadata": {
    "collapsed": false
   },
   "outputs": [],
   "source": [
    "max_i"
   ]
  },
  {
   "cell_type": "code",
   "execution_count": null,
   "metadata": {
    "collapsed": false
   },
   "outputs": [],
   "source": [
    "df[df.max_packs<60]"
   ]
  },
  {
   "cell_type": "code",
   "execution_count": null,
   "metadata": {
    "collapsed": false
   },
   "outputs": [],
   "source": [
    "df_a = df"
   ]
  },
  {
   "cell_type": "code",
   "execution_count": null,
   "metadata": {
    "collapsed": true
   },
   "outputs": [],
   "source": [
    "df_a['scores'] = 0"
   ]
  },
  {
   "cell_type": "code",
   "execution_count": null,
   "metadata": {
    "collapsed": false
   },
   "outputs": [],
   "source": [
    "df_a['score'] = 0"
   ]
  },
  {
   "cell_type": "code",
   "execution_count": null,
   "metadata": {
    "collapsed": false
   },
   "outputs": [],
   "source": [
    "def choiceful_gnome(dataframe, gift_types, gift_numbers, gift_types, N_packs=1000):\n",
    "    n = 0\n",
    "    items_left = gift_numbers[:]\n",
    "    while n < N_packs:"
   ]
  },
  {
   "cell_type": "code",
   "execution_count": null,
   "metadata": {
    "collapsed": false
   },
   "outputs": [],
   "source": [
    "df['score'][1]"
   ]
  },
  {
   "cell_type": "code",
   "execution_count": null,
   "metadata": {
    "collapsed": false
   },
   "outputs": [],
   "source": [
    "a=df.apply(lambda x: x[9]*min([(n_left//n_recipe)if n_recipe>0 else np.inf  for n_left, n_recipe in zip(gift_numbers, x[:9])]),axis=1)"
   ]
  },
  {
   "cell_type": "code",
   "execution_count": null,
   "metadata": {
    "collapsed": false
   },
   "outputs": [],
   "source": [
    "def foo(a,b):\n",
    "    if b == 0:\n",
    "        return np.inf\n",
    "    else:\n",
    "        return a//b\n",
    "    \n",
    "def bar(recipe, gift_numbers):\n",
    "    return min([foo(n_left,n_recipe) for n_left, n_recipe in zip(gift_numbers, recipe)])\n",
    "    \n",
    "df.apply(lambda x:bar(x, gift_numbers), axis=1)"
   ]
  },
  {
   "cell_type": "code",
   "execution_count": null,
   "metadata": {
    "collapsed": false
   },
   "outputs": [],
   "source": [
    "a = df.apply(lambda x: x[9]*min([(n_left//n_recipe)if n_recipe>0 else np.inf  for n_left, n_recipe in zip(gift_numbers, x[:9])]),axis=1)\n",
    "a.rename('total_score')\n",
    "b = df['max_packs']\n",
    "c = pd.concat([a,b],axis = 1)"
   ]
  },
  {
   "cell_type": "code",
   "execution_count": null,
   "metadata": {
    "collapsed": false
   },
   "outputs": [],
   "source": [
    "c.columns = ['total_score', 'max_packs']\n",
    "c.sort_values('total_score',ascending=False)"
   ]
  },
  {
   "cell_type": "code",
   "execution_count": null,
   "metadata": {
    "collapsed": false
   },
   "outputs": [],
   "source": [
    "a = df[gift_types].loc[0][0:9]"
   ]
  },
  {
   "cell_type": "code",
   "execution_count": null,
   "metadata": {
    "collapsed": false
   },
   "outputs": [],
   "source": [
    "int(np.inf)"
   ]
  },
  {
   "cell_type": "code",
   "execution_count": null,
   "metadata": {
    "collapsed": true
   },
   "outputs": [],
   "source": [
    ""
   ]
  }
 ],
 "metadata": {
  "anaconda-cloud": {},
  "kernelspec": {
   "display_name": "Python [Root]",
   "language": "python",
   "name": "Python [Root]"
  },
  "language_info": {
   "codemirror_mode": {
    "name": "ipython",
    "version": 3.0
   },
   "file_extension": ".py",
   "mimetype": "text/x-python",
   "name": "python",
   "nbconvert_exporter": "python",
   "pygments_lexer": "ipython3",
   "version": "3.5.1"
  }
 },
 "nbformat": 4,
 "nbformat_minor": 0
}