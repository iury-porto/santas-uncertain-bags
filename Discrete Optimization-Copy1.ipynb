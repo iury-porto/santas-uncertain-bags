{
 "cells": [
  {
   "cell_type": "code",
   "execution_count": 1,
   "metadata": {
    "collapsed": true
   },
   "outputs": [],
   "source": [
    "%matplotlib inline\n",
    "\n",
    "import pandas as pd\n",
    "import numpy as np\n",
    "from scipy.stats import rv_continuous, norm, truncnorm, arcsine, chi2, gamma, triang, entropy\n",
    "import matplotlib.pyplot as plt\n",
    "from itertools import combinations_with_replacement\n",
    "from time import time"
   ]
  },
  {
   "cell_type": "code",
   "execution_count": 99,
   "metadata": {
    "collapsed": true
   },
   "outputs": [],
   "source": [
    "gift_types = ['horse', 'ball', 'bike', 'train', 'coal', 'book', 'doll', 'block', 'gloves']\n",
    "gift_numbers = [1000, 1100, 500, 1000, 166, 1200, 1000, 1000, 200]"
   ]
  },
  {
   "cell_type": "code",
   "execution_count": 53,
   "metadata": {
    "collapsed": false
   },
   "outputs": [],
   "source": [
    "convolutions = pd.read_csv('convolutions2_1001_20.csv')"
   ]
  },
  {
   "cell_type": "code",
   "execution_count": 63,
   "metadata": {
    "collapsed": false
   },
   "outputs": [
    {
     "data": {
      "text/plain": [
       "[[\"['gloves']\", 1.375],\n",
       " [\"['book']\", 1.99989583587],\n",
       " [\"['ball']\", 2.00000000003],\n",
       " [\"['gloves', 'gloves']\", 2.75],\n",
       " [\"['ball', 'gloves']\", 3.37500000004],\n",
       " [\"['book', 'gloves']\", 3.39215494856],\n",
       " [\"['ball', 'ball']\", 4.00000000008],\n",
       " [\"['ball', 'book']\", 4.0250000002499995],\n",
       " [\"['book', 'book']\", 4.0499973708],\n",
       " [\"['gloves', 'gloves', 'gloves']\", 4.125]]"
      ]
     },
     "execution_count": 63,
     "metadata": {},
     "output_type": "execute_result"
    }
   ],
   "source": [
    "a = convolutions.to_dict(orient='split')\n",
    "data_list[0:10]"
   ]
  },
  {
   "cell_type": "code",
   "execution_count": 83,
   "metadata": {
    "collapsed": true
   },
   "outputs": [],
   "source": [
    "def treat_combination_str(comb_str, gift_types):\n",
    "    clean_str = \"\".join([char for char in comb_str if char not in '[]\\' '])\n",
    "    items_list = clean_str.split(',')\n",
    "    gift_numbers = [items_list.count(gift_type) for gift_type in gift_types]\n",
    "    return gift_numbers"
   ]
  },
  {
   "cell_type": "code",
   "execution_count": 62,
   "metadata": {
    "collapsed": false
   },
   "outputs": [],
   "source": [
    "data_list = a['data']\n",
    "new_dict = {}\n",
    "for index, row in enumerate(data_list):\n",
    "    gift_numbers = treat_combination_str(row[0], gift_types)\n",
    "    row_score = row[1]\n",
    "    new_dict[index] = gift_numbers + row_score"
   ]
  },
  {
   "cell_type": "code",
   "execution_count": null,
   "metadata": {
    "collapsed": true
   },
   "outputs": [],
   "source": []
  }
 ],
 "metadata": {
  "kernelspec": {
   "display_name": "Python [Root]",
   "language": "python",
   "name": "Python [Root]"
  },
  "language_info": {
   "codemirror_mode": {
    "name": "ipython",
    "version": 3
   },
   "file_extension": ".py",
   "mimetype": "text/x-python",
   "name": "python",
   "nbconvert_exporter": "python",
   "pygments_lexer": "ipython3",
   "version": "3.5.1"
  }
 },
 "nbformat": 4,
 "nbformat_minor": 0
}
